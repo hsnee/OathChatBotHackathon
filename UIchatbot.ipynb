{
 "cells": [
  {
   "cell_type": "code",
   "execution_count": 27,
   "metadata": {
    "collapsed": true
   },
   "outputs": [],
   "source": [
    "import json\n",
    "import re"
   ]
  },
  {
   "cell_type": "code",
   "execution_count": 24,
   "metadata": {},
   "outputs": [],
   "source": [
    "import urllib"
   ]
  },
  {
   "cell_type": "code",
   "execution_count": 62,
   "metadata": {},
   "outputs": [],
   "source": [
    "import re\n",
    "\n",
    "line = 'hi\"videoUrl\":\"here is the url\"then other stuff'\n",
    "\n",
    "matchObj = re.match( r'.*\"vid(.)oUrl\":\"(.*)\".*', line)"
   ]
  },
  {
   "cell_type": "code",
   "execution_count": 67,
   "metadata": {},
   "outputs": [
    {
     "data": {
      "text/plain": [
       "'here is the url'"
      ]
     },
     "execution_count": 67,
     "metadata": {},
     "output_type": "execute_result"
    }
   ],
   "source": [
    "matchObj.group(2)"
   ]
  },
  {
   "cell_type": "code",
   "execution_count": 132,
   "metadata": {},
   "outputs": [
    {
     "ename": "ImportError",
     "evalue": "No module named 'pygame'",
     "output_type": "error",
     "traceback": [
      "\u001b[0;31m---------------------------------------------------------------------------\u001b[0m",
      "\u001b[0;31mImportError\u001b[0m                               Traceback (most recent call last)",
      "\u001b[0;32m<ipython-input-132-a9dd085508c0>\u001b[0m in \u001b[0;36m<module>\u001b[0;34m()\u001b[0m\n\u001b[0;32m----> 1\u001b[0;31m \u001b[0;32mimport\u001b[0m \u001b[0mpygame\u001b[0m\u001b[0;34m\u001b[0m\u001b[0m\n\u001b[0m\u001b[1;32m      2\u001b[0m \u001b[0;34m\u001b[0m\u001b[0m\n\u001b[1;32m      3\u001b[0m \u001b[0mFPS\u001b[0m \u001b[0;34m=\u001b[0m \u001b[0;36m60\u001b[0m\u001b[0;34m\u001b[0m\u001b[0m\n\u001b[1;32m      4\u001b[0m \u001b[0;34m\u001b[0m\u001b[0m\n\u001b[1;32m      5\u001b[0m \u001b[0mpygame\u001b[0m\u001b[0;34m.\u001b[0m\u001b[0minit\u001b[0m\u001b[0;34m(\u001b[0m\u001b[0;34m)\u001b[0m\u001b[0;34m\u001b[0m\u001b[0m\n",
      "\u001b[0;31mImportError\u001b[0m: No module named 'pygame'"
     ]
    }
   ],
   "source": [
    "import pygame\n",
    "\n",
    "FPS = 60\n",
    "\n",
    "pygame.init()\n",
    "clock = pygame.time.Clock()\n",
    "movie = pygame.movie.Movie('MELT.MPG')\n",
    "screen = pygame.display.set_mode(movie.get_size())\n",
    "movie_screen = pygame.Surface(movie.get_size()).convert()\n",
    "\n",
    "movie.set_display(movie_screen)\n",
    "movie.play()\n",
    "\n",
    "\n",
    "playing = True\n",
    "while playing:\n",
    "    for event in pygame.event.get():\n",
    "        if event.type == pygame.QUIT:\n",
    "            movie.stop()\n",
    "            playing = False\n",
    "\n",
    "    screen.blit(movie_screen,(0,0))\n",
    "    pygame.display.update()\n",
    "    clock.tick(FPS)\n",
    "\n",
    "pygame.quit()"
   ]
  },
  {
   "cell_type": "code",
   "execution_count": 138,
   "metadata": {
    "scrolled": true
   },
   "outputs": [
    {
     "ename": "NameError",
     "evalue": "name 'pygame' is not defined",
     "output_type": "error",
     "traceback": [
      "\u001b[0;31m---------------------------------------------------------------------------\u001b[0m",
      "\u001b[0;31mNameError\u001b[0m                                 Traceback (most recent call last)",
      "\u001b[0;32m<ipython-input-138-986a7cce0791>\u001b[0m in \u001b[0;36m<module>\u001b[0;34m()\u001b[0m\n\u001b[0;32m----> 1\u001b[0;31m \u001b[0mscreen\u001b[0m \u001b[0;34m=\u001b[0m \u001b[0mpygame\u001b[0m\u001b[0;34m.\u001b[0m\u001b[0mdisplay\u001b[0m\u001b[0;34m.\u001b[0m\u001b[0mset_mode\u001b[0m\u001b[0;34m(\u001b[0m\u001b[0;34m(\u001b[0m\u001b[0;36m80\u001b[0m\u001b[0;34m,\u001b[0m \u001b[0;36m50\u001b[0m\u001b[0;34m)\u001b[0m\u001b[0;34m)\u001b[0m\u001b[0;34m\u001b[0m\u001b[0m\n\u001b[0m",
      "\u001b[0;31mNameError\u001b[0m: name 'pygame' is not defined"
     ]
    }
   ],
   "source": [
    "screen = pygame.display.set_mode((80, 50))"
   ]
  },
  {
   "cell_type": "code",
   "execution_count": 142,
   "metadata": {},
   "outputs": [],
   "source": [
    "import sklearn"
   ]
  },
  {
   "cell_type": "code",
   "execution_count": 5,
   "metadata": {},
   "outputs": [],
   "source": [
    "import pygame"
   ]
  },
  {
   "cell_type": "code",
   "execution_count": 2,
   "metadata": {},
   "outputs": [
    {
     "ename": "NameError",
     "evalue": "name 'width' is not defined",
     "output_type": "error",
     "traceback": [
      "\u001b[0;31m---------------------------------------------------------------------------\u001b[0m",
      "\u001b[0;31mNameError\u001b[0m                                 Traceback (most recent call last)",
      "\u001b[0;32m<ipython-input-2-771aa25ebe67>\u001b[0m in \u001b[0;36m<module>\u001b[0;34m()\u001b[0m\n\u001b[0;32m----> 1\u001b[0;31m \u001b[0mscreen\u001b[0m \u001b[0;34m=\u001b[0m \u001b[0mpygame\u001b[0m\u001b[0;34m.\u001b[0m\u001b[0mdisplay\u001b[0m\u001b[0;34m.\u001b[0m\u001b[0mset_mode\u001b[0m\u001b[0;34m(\u001b[0m\u001b[0;34m(\u001b[0m\u001b[0mwidth\u001b[0m\u001b[0;34m,\u001b[0m \u001b[0mheight\u001b[0m\u001b[0;34m)\u001b[0m\u001b[0;34m)\u001b[0m\u001b[0;34m\u001b[0m\u001b[0m\n\u001b[0m",
      "\u001b[0;31mNameError\u001b[0m: name 'width' is not defined"
     ]
    }
   ],
   "source": [
    "screen = pygame.display.set_mode((20, 30))"
   ]
  },
  {
   "cell_type": "code",
   "execution_count": 2,
   "metadata": {
    "scrolled": true
   },
   "outputs": [
    {
     "ename": "ImportError",
     "evalue": "No module named 'inputbox'",
     "output_type": "error",
     "traceback": [
      "\u001b[0;31m---------------------------------------------------------------------------\u001b[0m",
      "\u001b[0;31mImportError\u001b[0m                               Traceback (most recent call last)",
      "\u001b[0;32m<ipython-input-2-fb2597bbc1de>\u001b[0m in \u001b[0;36m<module>\u001b[0;34m()\u001b[0m\n\u001b[0;32m----> 1\u001b[0;31m \u001b[0;32mimport\u001b[0m \u001b[0minputbox\u001b[0m\u001b[0;34m\u001b[0m\u001b[0m\n\u001b[0m",
      "\u001b[0;31mImportError\u001b[0m: No module named 'inputbox'"
     ]
    }
   ],
   "source": [
    "import inputbox"
   ]
  },
  {
   "cell_type": "code",
   "execution_count": 3,
   "metadata": {},
   "outputs": [],
   "source": [
    "import tkinter as tk"
   ]
  },
  {
   "cell_type": "code",
   "execution_count": 17,
   "metadata": {},
   "outputs": [],
   "source": [
    "import tkinter\n",
    "\n",
    "def draw(canvas, width, height):\n",
    "    pass # replace with your drawing code!\n",
    "\n",
    "def runDrawing(width=300, height=300):\n",
    "    root = Tk()\n",
    "    canvas = Canvas(root, width=width, height=height)\n",
    "    canvas.pack()\n",
    "    draw(canvas, width, height)\n",
    "    root.mainloop()\n",
    "    print(\"bye!\")\n",
    "diary = \"Type here:\"\n",
    "root = Tk()\n",
    "text = Text(root)\n",
    "#text.insert(INSERT, diary)\n",
    "text.pack()\n",
    "\n",
    "root.mainloop()\n",
    "#runDrawing(400, 200)"
   ]
  },
  {
   "cell_type": "code",
   "execution_count": 76,
   "metadata": {},
   "outputs": [],
   "source": [
    "from collections import OrderedDict"
   ]
  },
  {
   "cell_type": "code",
   "execution_count": 79,
   "metadata": {},
   "outputs": [],
   "source": [
    "def printtext(event):\n",
    "    global e\n",
    "    string = e.get() \n",
    "    print(string + \"!!!!!!\")\n",
    "    b = Button(root,text='okay')\n",
    "    b.pack(side='right')\n",
    "\n",
    "def update_text(root, texts):\n",
    "    for i in range(min(8, len(texts))):\n",
    "        t = Text(root)\n",
    "        t.place(x = w * 0.5, y = h * 0.1 * (9 - (i+1)/2.0), anchor = \"c\", height = 25, width = w * 0.8)\n",
    "        if (texts[i][1]):\n",
    "            t.tag_configure(\"center\", justify='right')\n",
    "        else:\n",
    "            t.tag_configure(\"center\", justify='left')\n",
    "        t.insert(END, texts[i][0])\n",
    "\n",
    "from tkinter import *\n",
    "root = Tk()\n",
    "\n",
    "messages = [[\"hi\", 0], [\"how\", 1], [\"are\", 0], [\"you?\", 1]]\n",
    "\n",
    "root.title('Chatbot')\n",
    "#canvas = Canvas(root, width=500, height=300)\n",
    "#canvas.pack()\n",
    "w = 1000\n",
    "h = 700\n",
    "root.geometry(\"1000x700\")\n",
    "e = Entry(root)\n",
    "e.place(x = w * 0.5, y = h * 0.9, anchor = \"c\", width = w * 0.8)\n",
    "#e.pack()\n",
    "e.focus_set()\n",
    "root.bind('<Return>',printtext)   #Binds the \"left\" key to the frame and exexutes yourFunction if \"left\" key was pressed\n",
    "#b = Button(root,text='okay',command=printtext)\n",
    "#b.pack(side='right')\n",
    "update_text(root, messages)\n",
    "\n",
    "root.mainloop()"
   ]
  },
  {
   "cell_type": "code",
   "execution_count": null,
   "metadata": {},
   "outputs": [],
   "source": []
  }
 ],
 "metadata": {
  "kernelspec": {
   "display_name": "Python 3",
   "language": "python",
   "name": "python3"
  },
  "language_info": {
   "codemirror_mode": {
    "name": "ipython",
    "version": 3
   },
   "file_extension": ".py",
   "mimetype": "text/x-python",
   "name": "python",
   "nbconvert_exporter": "python",
   "pygments_lexer": "ipython3",
   "version": "3.5.2"
  }
 },
 "nbformat": 4,
 "nbformat_minor": 1
}
