{
 "cells": [
  {
   "cell_type": "code",
   "execution_count": 27,
   "metadata": {
    "collapsed": true
   },
   "outputs": [],
   "source": [
    "import json\n",
    "import re"
   ]
  },
  {
   "cell_type": "code",
   "execution_count": 24,
   "metadata": {},
   "outputs": [],
   "source": [
    "import urllib"
   ]
  },
  {
   "cell_type": "code",
   "execution_count": 62,
   "metadata": {},
   "outputs": [],
   "source": [
    "import re\n",
    "\n",
    "line = 'hi\"videoUrl\":\"here is the url\"then other stuff'\n",
    "\n",
    "matchObj = re.match( r'.*\"vid(.)oUrl\":\"(.*)\".*', line)"
   ]
  },
  {
   "cell_type": "code",
   "execution_count": 67,
   "metadata": {},
   "outputs": [
    {
     "data": {
      "text/plain": [
       "'here is the url'"
      ]
     },
     "execution_count": 67,
     "metadata": {},
     "output_type": "execute_result"
    }
   ],
   "source": [
    "matchObj.group(2)"
   ]
  },
  {
   "cell_type": "code",
   "execution_count": 132,
   "metadata": {},
   "outputs": [
    {
     "ename": "ImportError",
     "evalue": "No module named 'pygame'",
     "output_type": "error",
     "traceback": [
      "\u001b[0;31m---------------------------------------------------------------------------\u001b[0m",
      "\u001b[0;31mImportError\u001b[0m                               Traceback (most recent call last)",
      "\u001b[0;32m<ipython-input-132-a9dd085508c0>\u001b[0m in \u001b[0;36m<module>\u001b[0;34m()\u001b[0m\n\u001b[0;32m----> 1\u001b[0;31m \u001b[0;32mimport\u001b[0m \u001b[0mpygame\u001b[0m\u001b[0;34m\u001b[0m\u001b[0m\n\u001b[0m\u001b[1;32m      2\u001b[0m \u001b[0;34m\u001b[0m\u001b[0m\n\u001b[1;32m      3\u001b[0m \u001b[0mFPS\u001b[0m \u001b[0;34m=\u001b[0m \u001b[0;36m60\u001b[0m\u001b[0;34m\u001b[0m\u001b[0m\n\u001b[1;32m      4\u001b[0m \u001b[0;34m\u001b[0m\u001b[0m\n\u001b[1;32m      5\u001b[0m \u001b[0mpygame\u001b[0m\u001b[0;34m.\u001b[0m\u001b[0minit\u001b[0m\u001b[0;34m(\u001b[0m\u001b[0;34m)\u001b[0m\u001b[0;34m\u001b[0m\u001b[0m\n",
      "\u001b[0;31mImportError\u001b[0m: No module named 'pygame'"
     ]
    }
   ],
   "source": [
    "import pygame\n",
    "\n",
    "FPS = 60\n",
    "\n",
    "pygame.init()\n",
    "clock = pygame.time.Clock()\n",
    "movie = pygame.movie.Movie('MELT.MPG')\n",
    "screen = pygame.display.set_mode(movie.get_size())\n",
    "movie_screen = pygame.Surface(movie.get_size()).convert()\n",
    "\n",
    "movie.set_display(movie_screen)\n",
    "movie.play()\n",
    "\n",
    "\n",
    "playing = True\n",
    "while playing:\n",
    "    for event in pygame.event.get():\n",
    "        if event.type == pygame.QUIT:\n",
    "            movie.stop()\n",
    "            playing = False\n",
    "\n",
    "    screen.blit(movie_screen,(0,0))\n",
    "    pygame.display.update()\n",
    "    clock.tick(FPS)\n",
    "\n",
    "pygame.quit()"
   ]
  },
  {
   "cell_type": "code",
   "execution_count": 138,
   "metadata": {
    "scrolled": true
   },
   "outputs": [
    {
     "ename": "NameError",
     "evalue": "name 'pygame' is not defined",
     "output_type": "error",
     "traceback": [
      "\u001b[0;31m---------------------------------------------------------------------------\u001b[0m",
      "\u001b[0;31mNameError\u001b[0m                                 Traceback (most recent call last)",
      "\u001b[0;32m<ipython-input-138-986a7cce0791>\u001b[0m in \u001b[0;36m<module>\u001b[0;34m()\u001b[0m\n\u001b[0;32m----> 1\u001b[0;31m \u001b[0mscreen\u001b[0m \u001b[0;34m=\u001b[0m \u001b[0mpygame\u001b[0m\u001b[0;34m.\u001b[0m\u001b[0mdisplay\u001b[0m\u001b[0;34m.\u001b[0m\u001b[0mset_mode\u001b[0m\u001b[0;34m(\u001b[0m\u001b[0;34m(\u001b[0m\u001b[0;36m80\u001b[0m\u001b[0;34m,\u001b[0m \u001b[0;36m50\u001b[0m\u001b[0;34m)\u001b[0m\u001b[0;34m)\u001b[0m\u001b[0;34m\u001b[0m\u001b[0m\n\u001b[0m",
      "\u001b[0;31mNameError\u001b[0m: name 'pygame' is not defined"
     ]
    }
   ],
   "source": [
    "screen = pygame.display.set_mode((80, 50))"
   ]
  },
  {
   "cell_type": "code",
   "execution_count": 142,
   "metadata": {},
   "outputs": [],
   "source": [
    "import sklearn"
   ]
  },
  {
   "cell_type": "code",
   "execution_count": 5,
   "metadata": {},
   "outputs": [],
   "source": [
    "import pygame"
   ]
  },
  {
   "cell_type": "code",
   "execution_count": 2,
   "metadata": {},
   "outputs": [
    {
     "ename": "NameError",
     "evalue": "name 'width' is not defined",
     "output_type": "error",
     "traceback": [
      "\u001b[0;31m---------------------------------------------------------------------------\u001b[0m",
      "\u001b[0;31mNameError\u001b[0m                                 Traceback (most recent call last)",
      "\u001b[0;32m<ipython-input-2-771aa25ebe67>\u001b[0m in \u001b[0;36m<module>\u001b[0;34m()\u001b[0m\n\u001b[0;32m----> 1\u001b[0;31m \u001b[0mscreen\u001b[0m \u001b[0;34m=\u001b[0m \u001b[0mpygame\u001b[0m\u001b[0;34m.\u001b[0m\u001b[0mdisplay\u001b[0m\u001b[0;34m.\u001b[0m\u001b[0mset_mode\u001b[0m\u001b[0;34m(\u001b[0m\u001b[0;34m(\u001b[0m\u001b[0mwidth\u001b[0m\u001b[0;34m,\u001b[0m \u001b[0mheight\u001b[0m\u001b[0;34m)\u001b[0m\u001b[0;34m)\u001b[0m\u001b[0;34m\u001b[0m\u001b[0m\n\u001b[0m",
      "\u001b[0;31mNameError\u001b[0m: name 'width' is not defined"
     ]
    }
   ],
   "source": [
    "screen = pygame.display.set_mode((20, 30))"
   ]
  },
  {
   "cell_type": "code",
   "execution_count": 2,
   "metadata": {
    "scrolled": true
   },
   "outputs": [
    {
     "ename": "ImportError",
     "evalue": "No module named 'inputbox'",
     "output_type": "error",
     "traceback": [
      "\u001b[0;31m---------------------------------------------------------------------------\u001b[0m",
      "\u001b[0;31mImportError\u001b[0m                               Traceback (most recent call last)",
      "\u001b[0;32m<ipython-input-2-fb2597bbc1de>\u001b[0m in \u001b[0;36m<module>\u001b[0;34m()\u001b[0m\n\u001b[0;32m----> 1\u001b[0;31m \u001b[0;32mimport\u001b[0m \u001b[0minputbox\u001b[0m\u001b[0;34m\u001b[0m\u001b[0m\n\u001b[0m",
      "\u001b[0;31mImportError\u001b[0m: No module named 'inputbox'"
     ]
    }
   ],
   "source": [
    "import inputbox"
   ]
  },
  {
   "cell_type": "code",
   "execution_count": 3,
   "metadata": {},
   "outputs": [],
   "source": [
    "import tkinter as tk"
   ]
  },
  {
   "cell_type": "code",
   "execution_count": 17,
   "metadata": {},
   "outputs": [],
   "source": [
    "import tkinter\n",
    "\n",
    "def draw(canvas, width, height):\n",
    "    pass # replace with your drawing code!\n",
    "\n",
    "def runDrawing(width=300, height=300):\n",
    "    root = Tk()\n",
    "    canvas = Canvas(root, width=width, height=height)\n",
    "    canvas.pack()\n",
    "    draw(canvas, width, height)\n",
    "    root.mainloop()\n",
    "    print(\"bye!\")\n",
    "diary = \"Type here:\"\n",
    "root = Tk()\n",
    "text = Text(root)\n",
    "#text.insert(INSERT, diary)\n",
    "text.pack()\n",
    "\n",
    "root.mainloop()\n",
    "#runDrawing(400, 200)"
   ]
  },
  {
   "cell_type": "code",
   "execution_count": 76,
   "metadata": {},
   "outputs": [],
   "source": [
    "from collections import OrderedDict"
   ]
  },
  {
   "cell_type": "code",
   "execution_count": 1,
   "metadata": {},
   "outputs": [],
   "source": [
    "from tkinter import *\n",
    "from PIL import ImageTk, Image\n",
    "import os\n",
    "import subprocess\n",
    "\n",
    "messages = []\n",
    "\n",
    "root = Tk()\n",
    "root.title('Chatbot')\n",
    "w = 1000\n",
    "h = 700\n",
    "\n",
    "#canvas = Canvas(root, width=500, height=300)\n",
    "#canvas.pack()\n",
    "#root.geometry(\"1000x700\")\n",
    "canvas = Canvas(root,width=w,height=h,bg=\"white\")\n",
    "canvas.grid()\n",
    "\n",
    "def get_response(string):\n",
    "    return \"hello\"\n",
    "\n",
    "def printtext(event):\n",
    "    global e\n",
    "    global messages\n",
    "    global root\n",
    "    string = e.get()\n",
    "    e.delete(0, 'end')\n",
    "    if (string.lower() == \"yes\"):\n",
    "        open_img(\"ironman.jpeg\")\n",
    "    if (string == \"\"):\n",
    "        return\n",
    "    messages = [[string, 1]] + messages\n",
    "    messages = [[get_response(string), 0]] + messages\n",
    "    update_text(root, messages)\n",
    "    open_img()\n",
    "\n",
    "def update_text(root, texts):\n",
    "    for i in range(min(16, len(texts))):\n",
    "        t = Text(root)\n",
    "        t.place(x = w * 0.5, y = h * 0.1 * (9 - (i+1)/2.0), anchor = \"c\",\n",
    "                height = 25, width = w * 0.7)\n",
    "        img = Image.open(\"prof_pic.png\")\n",
    "        img = img.resize((30, 30), Image.ANTIALIAS)\n",
    "        img = ImageTk.PhotoImage(img)\n",
    "        panel = Label(root, image=img)\n",
    "        panel.image = img\n",
    "        panel.pack()\n",
    "        if (texts[i][1] == 1):\n",
    "            t.tag_configure('tag-right', justify='right')\n",
    "            t.insert('end', texts[i][0], 'tag-right')\n",
    "            panel.place(x = w * 0.9, y = h * 0.1 * (9 - (i+1)/2.0), anchor = \"e\")\n",
    "        else:\n",
    "            t.tag_configure('tag-left', justify='left')\n",
    "            t.insert('end', texts[i][0], 'tag-left')\n",
    "            panel.place(x = w * 0.1, y = h * 0.1 * (9 - (i+1)/2.0), anchor = \"w\")\n",
    "        canvas.tag_lower(t)\n",
    "            \n",
    "def on_click(event=None):\n",
    "    # `command=` calls function without argument\n",
    "    # `bind` calls function with one argument\n",
    "    subprocess.Popen(['open', 'http://www.youtube.com'])\n",
    "    \n",
    "def open_img(x):\n",
    "    img = Image.open(x)\n",
    "    img = img.resize((250, 250), Image.ANTIALIAS)\n",
    "    img = ImageTk.PhotoImage(img)\n",
    "    panel = Label(root, image=img)\n",
    "    panel.image = img\n",
    "    #panel.place(x = w * 0.5, y = h * 0.5, anchor = \"c\")\n",
    "\n",
    "    # bind click event to image\n",
    "    panel.bind('<Button-1>', on_click)\n",
    "    # button with image binded to the same function \n",
    "    b = Button(root, image=img, command=on_click)\n",
    "    b.pack()\n",
    "    b.place(x=w * 0.5, y=h * 0.5, anchor=\"c\")\n",
    "    \n",
    "\n",
    "e = Entry(root)\n",
    "e.place(x = w * 0.5, y = h * 0.9, anchor = \"c\", width = w * 0.8)\n",
    "#e.pack()\n",
    "e.focus_set()\n",
    "root.bind('<Return>',printtext)\n",
    "#Binds the \"left\" key to the frame and exexutes yourFunction if \"left\" key was pressed\n",
    "#b = Button(root,text='okay',command=printtext)\n",
    "#b.pack(side='right')\n",
    "update_text(root, messages)\n",
    "\n",
    "root.mainloop()"
   ]
  },
  {
   "cell_type": "code",
   "execution_count": 6,
   "metadata": {},
   "outputs": [
    {
     "name": "stdout",
     "output_type": "stream",
     "text": [
      "Collecting hyperlink\n",
      "  Downloading hyperlink-17.3.1-py2.py3-none-any.whl (73kB)\n",
      "\u001b[K    100% |████████████████████████████████| 81kB 2.2MB/s ta 0:00:01\n",
      "\u001b[?25hInstalling collected packages: hyperlink\n",
      "Successfully installed hyperlink-17.3.1\n"
     ]
    }
   ],
   "source": [
    "!pip install hyperlink"
   ]
  },
  {
   "cell_type": "code",
   "execution_count": 7,
   "metadata": {},
   "outputs": [],
   "source": [
    "import hyperlink"
   ]
  },
  {
   "cell_type": "code",
   "execution_count": 8,
   "metadata": {},
   "outputs": [],
   "source": [
    "a = hyperlink.URL('www.google.com')"
   ]
  },
  {
   "cell_type": "code",
   "execution_count": 9,
   "metadata": {},
   "outputs": [],
   "source": [
    "import webbrowser"
   ]
  },
  {
   "cell_type": "code",
   "execution_count": 10,
   "metadata": {},
   "outputs": [
    {
     "data": {
      "text/plain": [
       "True"
      ]
     },
     "execution_count": 10,
     "metadata": {},
     "output_type": "execute_result"
    }
   ],
   "source": [
    "webbrowser.open_new('www.google.com')"
   ]
  },
  {
   "cell_type": "code",
   "execution_count": null,
   "metadata": {},
   "outputs": [],
   "source": []
  }
 ],
 "metadata": {
  "kernelspec": {
   "display_name": "Python 3",
   "language": "python",
   "name": "python3"
  },
  "language_info": {
   "codemirror_mode": {
    "name": "ipython",
    "version": 3
   },
   "file_extension": ".py",
   "mimetype": "text/x-python",
   "name": "python",
   "nbconvert_exporter": "python",
   "pygments_lexer": "ipython3",
   "version": "3.5.2"
  }
 },
 "nbformat": 4,
 "nbformat_minor": 1
}
