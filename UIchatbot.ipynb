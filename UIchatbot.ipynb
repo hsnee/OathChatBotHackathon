{
 "cells": [
  {
   "cell_type": "code",
   "execution_count": 27,
   "metadata": {
    "collapsed": true
   },
   "outputs": [],
   "source": [
    "import json\n",
    "import re"
   ]
  },
  {
   "cell_type": "code",
   "execution_count": 24,
   "metadata": {},
   "outputs": [],
   "source": [
    "import urllib"
   ]
  },
  {
   "cell_type": "code",
   "execution_count": 25,
   "metadata": {},
   "outputs": [],
   "source": [
    "url = urllib.parse.re?"
   ]
  },
  {
   "cell_type": "code",
   "execution_count": null,
   "metadata": {
    "collapsed": true
   },
   "outputs": [],
   "source": [
    "url = urllib.parse.re"
   ]
  },
  {
   "cell_type": "code",
   "execution_count": 62,
   "metadata": {},
   "outputs": [],
   "source": [
    "import re\n",
    "\n",
    "line = 'hi\"videoUrl\":\"here is the url\"then other stuff'\n",
    "\n",
    "matchObj = re.match( r'.*\"vid(.)oUrl\":\"(.*)\".*', line)"
   ]
  },
  {
   "cell_type": "code",
   "execution_count": 67,
   "metadata": {},
   "outputs": [
    {
     "data": {
      "text/plain": [
       "'here is the url'"
      ]
     },
     "execution_count": 67,
     "metadata": {},
     "output_type": "execute_result"
    }
   ],
   "source": [
    "matchObj.group(2)"
   ]
  },
  {
   "cell_type": "code",
   "execution_count": 116,
   "metadata": {},
   "outputs": [],
   "source": [
    "def func():\n",
    "    i=0\n",
    "    while (1):\n",
    "        yield i*5\n",
    "        i+=1"
   ]
  },
  {
   "cell_type": "code",
   "execution_count": 119,
   "metadata": {},
   "outputs": [],
   "source": [
    "a = func()"
   ]
  },
  {
   "cell_type": "code",
   "execution_count": 75,
   "metadata": {
    "collapsed": true
   },
   "outputs": [],
   "source": [
    "b.close()"
   ]
  },
  {
   "cell_type": "code",
   "execution_count": 130,
   "metadata": {},
   "outputs": [
    {
     "data": {
      "text/plain": [
       "50"
      ]
     },
     "execution_count": 130,
     "metadata": {},
     "output_type": "execute_result"
    }
   ],
   "source": [
    "next(a)"
   ]
  },
  {
   "cell_type": "code",
   "execution_count": 131,
   "metadata": {},
   "outputs": [
    {
     "data": {
      "text/plain": [
       "55"
      ]
     },
     "execution_count": 131,
     "metadata": {},
     "output_type": "execute_result"
    }
   ],
   "source": [
    "next(a)"
   ]
  },
  {
   "cell_type": "code",
   "execution_count": 132,
   "metadata": {},
   "outputs": [
    {
     "ename": "ImportError",
     "evalue": "No module named 'pygame'",
     "output_type": "error",
     "traceback": [
      "\u001b[0;31m---------------------------------------------------------------------------\u001b[0m",
      "\u001b[0;31mImportError\u001b[0m                               Traceback (most recent call last)",
      "\u001b[0;32m<ipython-input-132-a9dd085508c0>\u001b[0m in \u001b[0;36m<module>\u001b[0;34m()\u001b[0m\n\u001b[0;32m----> 1\u001b[0;31m \u001b[0;32mimport\u001b[0m \u001b[0mpygame\u001b[0m\u001b[0;34m\u001b[0m\u001b[0m\n\u001b[0m\u001b[1;32m      2\u001b[0m \u001b[0;34m\u001b[0m\u001b[0m\n\u001b[1;32m      3\u001b[0m \u001b[0mFPS\u001b[0m \u001b[0;34m=\u001b[0m \u001b[0;36m60\u001b[0m\u001b[0;34m\u001b[0m\u001b[0m\n\u001b[1;32m      4\u001b[0m \u001b[0;34m\u001b[0m\u001b[0m\n\u001b[1;32m      5\u001b[0m \u001b[0mpygame\u001b[0m\u001b[0;34m.\u001b[0m\u001b[0minit\u001b[0m\u001b[0;34m(\u001b[0m\u001b[0;34m)\u001b[0m\u001b[0;34m\u001b[0m\u001b[0m\n",
      "\u001b[0;31mImportError\u001b[0m: No module named 'pygame'"
     ]
    }
   ],
   "source": [
    "import pygame\n",
    "\n",
    "FPS = 60\n",
    "\n",
    "pygame.init()\n",
    "clock = pygame.time.Clock()\n",
    "movie = pygame.movie.Movie('MELT.MPG')\n",
    "screen = pygame.display.set_mode(movie.get_size())\n",
    "movie_screen = pygame.Surface(movie.get_size()).convert()\n",
    "\n",
    "movie.set_display(movie_screen)\n",
    "movie.play()\n",
    "\n",
    "\n",
    "playing = True\n",
    "while playing:\n",
    "    for event in pygame.event.get():\n",
    "        if event.type == pygame.QUIT:\n",
    "            movie.stop()\n",
    "            playing = False\n",
    "\n",
    "    screen.blit(movie_screen,(0,0))\n",
    "    pygame.display.update()\n",
    "    clock.tick(FPS)\n",
    "\n",
    "pygame.quit()"
   ]
  },
  {
   "cell_type": "code",
   "execution_count": 135,
   "metadata": {},
   "outputs": [
    {
     "name": "stdout",
     "output_type": "stream",
     "text": [
      "Fetching package metadata ...........\n",
      "\n",
      "PackageNotFoundError: Packages missing in current channels:\n",
      "            \n",
      "  - pygame\n",
      "\n",
      "We have searched for the packages in the following channels:\n",
      "            \n",
      "  - https://repo.continuum.io/pkgs/main/osx-64\n",
      "  - https://repo.continuum.io/pkgs/main/noarch\n",
      "  - https://repo.continuum.io/pkgs/free/osx-64\n",
      "  - https://repo.continuum.io/pkgs/free/noarch\n",
      "  - https://repo.continuum.io/pkgs/r/osx-64\n",
      "  - https://repo.continuum.io/pkgs/r/noarch\n",
      "  - https://repo.continuum.io/pkgs/pro/osx-64\n",
      "  - https://repo.continuum.io/pkgs/pro/noarch\n",
      "            \n",
      "\n"
     ]
    }
   ],
   "source": [
    "!conda install pygame"
   ]
  },
  {
   "cell_type": "code",
   "execution_count": 137,
   "metadata": {},
   "outputs": [
    {
     "ename": "ImportError",
     "evalue": "No module named 'pygame'",
     "output_type": "error",
     "traceback": [
      "\u001b[0;31m---------------------------------------------------------------------------\u001b[0m",
      "\u001b[0;31mImportError\u001b[0m                               Traceback (most recent call last)",
      "\u001b[0;32m<ipython-input-137-4a415d16fbed>\u001b[0m in \u001b[0;36m<module>\u001b[0;34m()\u001b[0m\n\u001b[0;32m----> 1\u001b[0;31m \u001b[0;32mimport\u001b[0m \u001b[0mpygame\u001b[0m\u001b[0;34m\u001b[0m\u001b[0m\n\u001b[0m",
      "\u001b[0;31mImportError\u001b[0m: No module named 'pygame'"
     ]
    }
   ],
   "source": [
    "import pygame"
   ]
  },
  {
   "cell_type": "code",
   "execution_count": 138,
   "metadata": {},
   "outputs": [
    {
     "ename": "NameError",
     "evalue": "name 'pygame' is not defined",
     "output_type": "error",
     "traceback": [
      "\u001b[0;31m---------------------------------------------------------------------------\u001b[0m",
      "\u001b[0;31mNameError\u001b[0m                                 Traceback (most recent call last)",
      "\u001b[0;32m<ipython-input-138-986a7cce0791>\u001b[0m in \u001b[0;36m<module>\u001b[0;34m()\u001b[0m\n\u001b[0;32m----> 1\u001b[0;31m \u001b[0mscreen\u001b[0m \u001b[0;34m=\u001b[0m \u001b[0mpygame\u001b[0m\u001b[0;34m.\u001b[0m\u001b[0mdisplay\u001b[0m\u001b[0;34m.\u001b[0m\u001b[0mset_mode\u001b[0m\u001b[0;34m(\u001b[0m\u001b[0;34m(\u001b[0m\u001b[0;36m80\u001b[0m\u001b[0;34m,\u001b[0m \u001b[0;36m50\u001b[0m\u001b[0;34m)\u001b[0m\u001b[0;34m)\u001b[0m\u001b[0;34m\u001b[0m\u001b[0m\n\u001b[0m",
      "\u001b[0;31mNameError\u001b[0m: name 'pygame' is not defined"
     ]
    }
   ],
   "source": [
    "screen = pygame.display.set_mode((80, 50))"
   ]
  },
  {
   "cell_type": "code",
   "execution_count": 142,
   "metadata": {},
   "outputs": [],
   "source": [
    "import sklearn"
   ]
  },
  {
   "cell_type": "code",
   "execution_count": 144,
   "metadata": {},
   "outputs": [
    {
     "name": "stdout",
     "output_type": "stream",
     "text": [
      "Collecting pygame\n",
      "  Using cached pygame-1.9.3.tar.gz\n",
      "Building wheels for collected packages: pygame\n",
      "  Running setup.py bdist_wheel for pygame ... \u001b[?25l-\b \b\\\b \b|\b \b/\b \b-\b \berror\n",
      "  Complete output from command /Applications/anaconda/bin/python -u -c \"import setuptools, tokenize;__file__='/private/var/folders/4t/klzj4m612pz0k182jn8xm2b80000gn/T/pip-build-2226hb51/pygame/setup.py';f=getattr(tokenize, 'open', open)(__file__);code=f.read().replace('\\r\\n', '\\n');f.close();exec(compile(code, __file__, 'exec'))\" bdist_wheel -d /var/folders/4t/klzj4m612pz0k182jn8xm2b80000gn/T/tmpow748xw3pip-wheel- --python-tag cp35:\n",
      "  running bdist_wheel\n",
      "  running build\n",
      "  running build_py\n",
      "  creating build\n",
      "  creating build/lib.macosx-10.7-x86_64-3.5\n",
      "  creating build/lib.macosx-10.7-x86_64-3.5/pygame\n",
      "  copying lib/__init__.py -> build/lib.macosx-10.7-x86_64-3.5/pygame\n",
      "  copying lib/_camera_opencv_highgui.py -> build/lib.macosx-10.7-x86_64-3.5/pygame\n",
      "  copying lib/_camera_vidcapture.py -> build/lib.macosx-10.7-x86_64-3.5/pygame\n",
      "  copying lib/_dummybackend.py -> build/lib.macosx-10.7-x86_64-3.5/pygame\n",
      "  copying lib/_numpysndarray.py -> build/lib.macosx-10.7-x86_64-3.5/pygame\n",
      "  copying lib/_numpysurfarray.py -> build/lib.macosx-10.7-x86_64-3.5/pygame\n",
      "  copying lib/camera.py -> build/lib.macosx-10.7-x86_64-3.5/pygame\n",
      "  copying lib/colordict.py -> build/lib.macosx-10.7-x86_64-3.5/pygame\n",
      "  copying lib/compat.py -> build/lib.macosx-10.7-x86_64-3.5/pygame\n",
      "  copying lib/cursors.py -> build/lib.macosx-10.7-x86_64-3.5/pygame\n",
      "  copying lib/font.py -> build/lib.macosx-10.7-x86_64-3.5/pygame\n",
      "  copying lib/freetype.py -> build/lib.macosx-10.7-x86_64-3.5/pygame\n",
      "  copying lib/ftfont.py -> build/lib.macosx-10.7-x86_64-3.5/pygame\n",
      "  copying lib/locals.py -> build/lib.macosx-10.7-x86_64-3.5/pygame\n",
      "  copying lib/macosx.py -> build/lib.macosx-10.7-x86_64-3.5/pygame\n",
      "  copying lib/midi.py -> build/lib.macosx-10.7-x86_64-3.5/pygame\n",
      "  copying lib/pkgdata.py -> build/lib.macosx-10.7-x86_64-3.5/pygame\n",
      "  copying lib/sndarray.py -> build/lib.macosx-10.7-x86_64-3.5/pygame\n",
      "  copying lib/sprite.py -> build/lib.macosx-10.7-x86_64-3.5/pygame\n",
      "  copying lib/surfarray.py -> build/lib.macosx-10.7-x86_64-3.5/pygame\n",
      "  copying lib/sysfont.py -> build/lib.macosx-10.7-x86_64-3.5/pygame\n",
      "  copying lib/version.py -> build/lib.macosx-10.7-x86_64-3.5/pygame\n",
      "  creating build/lib.macosx-10.7-x86_64-3.5/pygame/gp2x\n",
      "  copying lib/gp2x/__init__.py -> build/lib.macosx-10.7-x86_64-3.5/pygame/gp2x\n",
      "  copying lib/gp2x/constants.py -> build/lib.macosx-10.7-x86_64-3.5/pygame/gp2x\n",
      "  copying lib/gp2x/locals.py -> build/lib.macosx-10.7-x86_64-3.5/pygame/gp2x\n",
      "  creating build/lib.macosx-10.7-x86_64-3.5/pygame/threads\n",
      "  copying lib/threads/__init__.py -> build/lib.macosx-10.7-x86_64-3.5/pygame/threads\n",
      "  copying lib/threads/Py25Queue.py -> build/lib.macosx-10.7-x86_64-3.5/pygame/threads\n",
      "  creating build/lib.macosx-10.7-x86_64-3.5/pygame/tests\n",
      "  copying test/__init__.py -> build/lib.macosx-10.7-x86_64-3.5/pygame/tests\n",
      "  copying test/__main__.py -> build/lib.macosx-10.7-x86_64-3.5/pygame/tests\n",
      "  copying test/base_test.py -> build/lib.macosx-10.7-x86_64-3.5/pygame/tests\n",
      "  copying test/blit_test.py -> build/lib.macosx-10.7-x86_64-3.5/pygame/tests\n",
      "  copying test/bufferproxy_test.py -> build/lib.macosx-10.7-x86_64-3.5/pygame/tests\n",
      "  copying test/camera_test.py -> build/lib.macosx-10.7-x86_64-3.5/pygame/tests\n",
      "  copying test/cdrom_tags.py -> build/lib.macosx-10.7-x86_64-3.5/pygame/tests\n",
      "  copying test/cdrom_test.py -> build/lib.macosx-10.7-x86_64-3.5/pygame/tests\n",
      "  copying test/color_test.py -> build/lib.macosx-10.7-x86_64-3.5/pygame/tests\n",
      "  copying test/compat_test.py -> build/lib.macosx-10.7-x86_64-3.5/pygame/tests\n",
      "  copying test/cursors_test.py -> build/lib.macosx-10.7-x86_64-3.5/pygame/tests\n",
      "  copying test/display_test.py -> build/lib.macosx-10.7-x86_64-3.5/pygame/tests\n",
      "  copying test/draw_test.py -> build/lib.macosx-10.7-x86_64-3.5/pygame/tests\n",
      "  copying test/event_test.py -> build/lib.macosx-10.7-x86_64-3.5/pygame/tests\n",
      "  copying test/fastevent_test.py -> build/lib.macosx-10.7-x86_64-3.5/pygame/tests\n",
      "  copying test/font_tags.py -> build/lib.macosx-10.7-x86_64-3.5/pygame/tests\n",
      "  copying test/font_test.py -> build/lib.macosx-10.7-x86_64-3.5/pygame/tests\n",
      "  copying test/freetype_tags.py -> build/lib.macosx-10.7-x86_64-3.5/pygame/tests\n",
      "  copying test/freetype_test.py -> build/lib.macosx-10.7-x86_64-3.5/pygame/tests\n",
      "  copying test/ftfont_tags.py -> build/lib.macosx-10.7-x86_64-3.5/pygame/tests\n",
      "  copying test/ftfont_test.py -> build/lib.macosx-10.7-x86_64-3.5/pygame/tests\n",
      "  copying test/gfxdraw_test.py -> build/lib.macosx-10.7-x86_64-3.5/pygame/tests\n",
      "  copying test/image__save_gl_surface_test.py -> build/lib.macosx-10.7-x86_64-3.5/pygame/tests\n",
      "  copying test/image_tags.py -> build/lib.macosx-10.7-x86_64-3.5/pygame/tests\n",
      "  copying test/image_test.py -> build/lib.macosx-10.7-x86_64-3.5/pygame/tests\n",
      "  copying test/imageext_tags.py -> build/lib.macosx-10.7-x86_64-3.5/pygame/tests\n",
      "  copying test/imageext_test.py -> build/lib.macosx-10.7-x86_64-3.5/pygame/tests\n",
      "  copying test/joystick_test.py -> build/lib.macosx-10.7-x86_64-3.5/pygame/tests\n",
      "  copying test/key_test.py -> build/lib.macosx-10.7-x86_64-3.5/pygame/tests\n",
      "  copying test/mask_test.py -> build/lib.macosx-10.7-x86_64-3.5/pygame/tests\n",
      "  copying test/math_test.py -> build/lib.macosx-10.7-x86_64-3.5/pygame/tests\n",
      "  copying test/midi_tags.py -> build/lib.macosx-10.7-x86_64-3.5/pygame/tests\n",
      "  copying test/midi_test.py -> build/lib.macosx-10.7-x86_64-3.5/pygame/tests\n",
      "  copying test/mixer_music_tags.py -> build/lib.macosx-10.7-x86_64-3.5/pygame/tests\n",
      "  copying test/mixer_music_test.py -> build/lib.macosx-10.7-x86_64-3.5/pygame/tests\n",
      "  copying test/mixer_tags.py -> build/lib.macosx-10.7-x86_64-3.5/pygame/tests\n",
      "  copying test/mixer_test.py -> build/lib.macosx-10.7-x86_64-3.5/pygame/tests\n",
      "  copying test/mouse_test.py -> build/lib.macosx-10.7-x86_64-3.5/pygame/tests\n",
      "  copying test/overlay_test.py -> build/lib.macosx-10.7-x86_64-3.5/pygame/tests\n",
      "  copying test/pixelarray_test.py -> build/lib.macosx-10.7-x86_64-3.5/pygame/tests\n",
      "  copying test/pixelcopy_test.py -> build/lib.macosx-10.7-x86_64-3.5/pygame/tests\n",
      "  copying test/rect_test.py -> build/lib.macosx-10.7-x86_64-3.5/pygame/tests\n",
      "  copying test/rwobject_test.py -> build/lib.macosx-10.7-x86_64-3.5/pygame/tests\n",
      "  copying test/scrap_tags.py -> build/lib.macosx-10.7-x86_64-3.5/pygame/tests\n",
      "  copying test/scrap_test.py -> build/lib.macosx-10.7-x86_64-3.5/pygame/tests\n",
      "  copying test/sndarray_tags.py -> build/lib.macosx-10.7-x86_64-3.5/pygame/tests\n",
      "  copying test/sndarray_test.py -> build/lib.macosx-10.7-x86_64-3.5/pygame/tests\n",
      "  copying test/sprite_test.py -> build/lib.macosx-10.7-x86_64-3.5/pygame/tests\n",
      "  copying test/surface_test.py -> build/lib.macosx-10.7-x86_64-3.5/pygame/tests\n",
      "  copying test/surfarray_tags.py -> build/lib.macosx-10.7-x86_64-3.5/pygame/tests\n",
      "  copying test/surfarray_test.py -> build/lib.macosx-10.7-x86_64-3.5/pygame/tests\n",
      "  copying test/surflock_test.py -> build/lib.macosx-10.7-x86_64-3.5/pygame/tests\n",
      "  copying test/sysfont_test.py -> build/lib.macosx-10.7-x86_64-3.5/pygame/tests\n",
      "  copying test/test_test_.py -> build/lib.macosx-10.7-x86_64-3.5/pygame/tests\n",
      "  copying test/threads_test.py -> build/lib.macosx-10.7-x86_64-3.5/pygame/tests\n",
      "  copying test/time_test.py -> build/lib.macosx-10.7-x86_64-3.5/pygame/tests\n",
      "  copying test/transform_test.py -> build/lib.macosx-10.7-x86_64-3.5/pygame/tests\n",
      "  creating build/lib.macosx-10.7-x86_64-3.5/pygame/tests/test_utils\n",
      "  copying test/test_utils/__init__.py -> build/lib.macosx-10.7-x86_64-3.5/pygame/tests/test_utils\n",
      "  copying test/test_utils/arrinter.py -> build/lib.macosx-10.7-x86_64-3.5/pygame/tests/test_utils\n",
      "  copying test/test_utils/async_sub.py -> build/lib.macosx-10.7-x86_64-3.5/pygame/tests/test_utils\n",
      "  copying test/test_utils/buftools.py -> build/lib.macosx-10.7-x86_64-3.5/pygame/tests/test_utils\n",
      "  copying test/test_utils/endian.py -> build/lib.macosx-10.7-x86_64-3.5/pygame/tests/test_utils\n",
      "  copying test/test_utils/png.py -> build/lib.macosx-10.7-x86_64-3.5/pygame/tests/test_utils\n",
      "  copying test/test_utils/run_tests.py -> build/lib.macosx-10.7-x86_64-3.5/pygame/tests/test_utils\n",
      "  copying test/test_utils/test_machinery.py -> build/lib.macosx-10.7-x86_64-3.5/pygame/tests/test_utils\n",
      "  copying test/test_utils/test_runner.py -> build/lib.macosx-10.7-x86_64-3.5/pygame/tests/test_utils\n",
      "  creating build/lib.macosx-10.7-x86_64-3.5/pygame/tests/run_tests__tests\n",
      "  copying test/run_tests__tests/__init__.py -> build/lib.macosx-10.7-x86_64-3.5/pygame/tests/run_tests__tests\n",
      "  copying test/run_tests__tests/run_tests__test.py -> build/lib.macosx-10.7-x86_64-3.5/pygame/tests/run_tests__tests\n",
      "  creating build/lib.macosx-10.7-x86_64-3.5/pygame/tests/run_tests__tests/all_ok\n",
      "  copying test/run_tests__tests/all_ok/__init__.py -> build/lib.macosx-10.7-x86_64-3.5/pygame/tests/run_tests__tests/all_ok\n",
      "  copying test/run_tests__tests/all_ok/fake_2_test.py -> build/lib.macosx-10.7-x86_64-3.5/pygame/tests/run_tests__tests/all_ok\n",
      "  copying test/run_tests__tests/all_ok/fake_3_test.py -> build/lib.macosx-10.7-x86_64-3.5/pygame/tests/run_tests__tests/all_ok\n",
      "  copying test/run_tests__tests/all_ok/fake_4_test.py -> build/lib.macosx-10.7-x86_64-3.5/pygame/tests/run_tests__tests/all_ok\n",
      "  copying test/run_tests__tests/all_ok/fake_5_test.py -> build/lib.macosx-10.7-x86_64-3.5/pygame/tests/run_tests__tests/all_ok\n",
      "  copying test/run_tests__tests/all_ok/fake_6_test.py -> build/lib.macosx-10.7-x86_64-3.5/pygame/tests/run_tests__tests/all_ok\n",
      "  copying test/run_tests__tests/all_ok/no_assertions__ret_code_of_1__test.py -> build/lib.macosx-10.7-x86_64-3.5/pygame/tests/run_tests__tests/all_ok\n",
      "  copying test/run_tests__tests/all_ok/zero_tests_test.py -> build/lib.macosx-10.7-x86_64-3.5/pygame/tests/run_tests__tests/all_ok\n",
      "  creating build/lib.macosx-10.7-x86_64-3.5/pygame/tests/run_tests__tests/failures1\n",
      "  copying test/run_tests__tests/failures1/__init__.py -> build/lib.macosx-10.7-x86_64-3.5/pygame/tests/run_tests__tests/failures1\n",
      "  copying test/run_tests__tests/failures1/fake_2_test.py -> build/lib.macosx-10.7-x86_64-3.5/pygame/tests/run_tests__tests/failures1\n",
      "  copying test/run_tests__tests/failures1/fake_3_test.py -> build/lib.macosx-10.7-x86_64-3.5/pygame/tests/run_tests__tests/failures1\n",
      "  copying test/run_tests__tests/failures1/fake_4_test.py -> build/lib.macosx-10.7-x86_64-3.5/pygame/tests/run_tests__tests/failures1\n",
      "  creating build/lib.macosx-10.7-x86_64-3.5/pygame/tests/run_tests__tests/incomplete\n",
      "  copying test/run_tests__tests/incomplete/__init__.py -> build/lib.macosx-10.7-x86_64-3.5/pygame/tests/run_tests__tests/incomplete\n",
      "  copying test/run_tests__tests/incomplete/fake_2_test.py -> build/lib.macosx-10.7-x86_64-3.5/pygame/tests/run_tests__tests/incomplete\n",
      "  copying test/run_tests__tests/incomplete/fake_3_test.py -> build/lib.macosx-10.7-x86_64-3.5/pygame/tests/run_tests__tests/incomplete\n",
      "  creating build/lib.macosx-10.7-x86_64-3.5/pygame/tests/run_tests__tests/infinite_loop\n",
      "  copying test/run_tests__tests/infinite_loop/__init__.py -> build/lib.macosx-10.7-x86_64-3.5/pygame/tests/run_tests__tests/infinite_loop\n",
      "  copying test/run_tests__tests/infinite_loop/fake_1_test.py -> build/lib.macosx-10.7-x86_64-3.5/pygame/tests/run_tests__tests/infinite_loop\n",
      "  copying test/run_tests__tests/infinite_loop/fake_2_test.py -> build/lib.macosx-10.7-x86_64-3.5/pygame/tests/run_tests__tests/infinite_loop\n",
      "  creating build/lib.macosx-10.7-x86_64-3.5/pygame/tests/run_tests__tests/print_stderr\n",
      "  copying test/run_tests__tests/print_stderr/__init__.py -> build/lib.macosx-10.7-x86_64-3.5/pygame/tests/run_tests__tests/print_stderr\n",
      "  copying test/run_tests__tests/print_stderr/fake_2_test.py -> build/lib.macosx-10.7-x86_64-3.5/pygame/tests/run_tests__tests/print_stderr\n",
      "  copying test/run_tests__tests/print_stderr/fake_3_test.py -> build/lib.macosx-10.7-x86_64-3.5/pygame/tests/run_tests__tests/print_stderr\n",
      "  copying test/run_tests__tests/print_stderr/fake_4_test.py -> build/lib.macosx-10.7-x86_64-3.5/pygame/tests/run_tests__tests/print_stderr\n",
      "  creating build/lib.macosx-10.7-x86_64-3.5/pygame/tests/run_tests__tests/print_stdout\n",
      "  copying test/run_tests__tests/print_stdout/__init__.py -> build/lib.macosx-10.7-x86_64-3.5/pygame/tests/run_tests__tests/print_stdout\n",
      "  copying test/run_tests__tests/print_stdout/fake_2_test.py -> build/lib.macosx-10.7-x86_64-3.5/pygame/tests/run_tests__tests/print_stdout\n",
      "  copying test/run_tests__tests/print_stdout/fake_3_test.py -> build/lib.macosx-10.7-x86_64-3.5/pygame/tests/run_tests__tests/print_stdout\n",
      "  copying test/run_tests__tests/print_stdout/fake_4_test.py -> build/lib.macosx-10.7-x86_64-3.5/pygame/tests/run_tests__tests/print_stdout\n",
      "  creating build/lib.macosx-10.7-x86_64-3.5/pygame/tests/run_tests__tests/incomplete_todo\n",
      "  copying test/run_tests__tests/incomplete_todo/__init__.py -> build/lib.macosx-10.7-x86_64-3.5/pygame/tests/run_tests__tests/incomplete_todo\n",
      "  copying test/run_tests__tests/incomplete_todo/fake_2_test.py -> build/lib.macosx-10.7-x86_64-3.5/pygame/tests/run_tests__tests/incomplete_todo\n",
      "  copying test/run_tests__tests/incomplete_todo/fake_3_test.py -> build/lib.macosx-10.7-x86_64-3.5/pygame/tests/run_tests__tests/incomplete_todo\n",
      "  creating build/lib.macosx-10.7-x86_64-3.5/pygame/tests/run_tests__tests/exclude\n",
      "  copying test/run_tests__tests/exclude/__init__.py -> build/lib.macosx-10.7-x86_64-3.5/pygame/tests/run_tests__tests/exclude\n",
      "  copying test/run_tests__tests/exclude/fake_2_test.py -> build/lib.macosx-10.7-x86_64-3.5/pygame/tests/run_tests__tests/exclude\n",
      "  copying test/run_tests__tests/exclude/invisible_tag_test.py -> build/lib.macosx-10.7-x86_64-3.5/pygame/tests/run_tests__tests/exclude\n",
      "  copying test/run_tests__tests/exclude/magic_tag_test.py -> build/lib.macosx-10.7-x86_64-3.5/pygame/tests/run_tests__tests/exclude\n",
      "  creating build/lib.macosx-10.7-x86_64-3.5/pygame/tests/run_tests__tests/timeout\n",
      "  copying test/run_tests__tests/timeout/__init__.py -> build/lib.macosx-10.7-x86_64-3.5/pygame/tests/run_tests__tests/timeout\n",
      "  copying test/run_tests__tests/timeout/fake_2_test.py -> build/lib.macosx-10.7-x86_64-3.5/pygame/tests/run_tests__tests/timeout\n",
      "  copying test/run_tests__tests/timeout/sleep_test.py -> build/lib.macosx-10.7-x86_64-3.5/pygame/tests/run_tests__tests/timeout\n",
      "  creating build/lib.macosx-10.7-x86_64-3.5/pygame/tests/run_tests__tests/everything\n",
      "  copying test/run_tests__tests/everything/__init__.py -> build/lib.macosx-10.7-x86_64-3.5/pygame/tests/run_tests__tests/everything\n",
      "  copying test/run_tests__tests/everything/fake_2_test.py -> build/lib.macosx-10.7-x86_64-3.5/pygame/tests/run_tests__tests/everything\n",
      "  copying test/run_tests__tests/everything/incomplete_todo_test.py -> build/lib.macosx-10.7-x86_64-3.5/pygame/tests/run_tests__tests/everything\n",
      "  copying test/run_tests__tests/everything/magic_tag_test.py -> build/lib.macosx-10.7-x86_64-3.5/pygame/tests/run_tests__tests/everything\n",
      "  copying test/run_tests__tests/everything/sleep_test.py -> build/lib.macosx-10.7-x86_64-3.5/pygame/tests/run_tests__tests/everything\n",
      "  creating build/lib.macosx-10.7-x86_64-3.5/pygame/docs\n",
      "  copying docs/__init__.py -> build/lib.macosx-10.7-x86_64-3.5/pygame/docs\n",
      "  copying docs/__main__.py -> build/lib.macosx-10.7-x86_64-3.5/pygame/docs\n",
      "  creating build/lib.macosx-10.7-x86_64-3.5/pygame/examples\n",
      "  copying examples/__init__.py -> build/lib.macosx-10.7-x86_64-3.5/pygame/examples\n",
      "  copying examples/aacircle.py -> build/lib.macosx-10.7-x86_64-3.5/pygame/examples\n",
      "  copying examples/aliens.py -> build/lib.macosx-10.7-x86_64-3.5/pygame/examples\n",
      "  copying examples/arraydemo.py -> build/lib.macosx-10.7-x86_64-3.5/pygame/examples\n",
      "  copying examples/blend_fill.py -> build/lib.macosx-10.7-x86_64-3.5/pygame/examples\n",
      "  copying examples/blit_blends.py -> build/lib.macosx-10.7-x86_64-3.5/pygame/examples\n",
      "  copying examples/camera.py -> build/lib.macosx-10.7-x86_64-3.5/pygame/examples\n",
      "  copying examples/chimp.py -> build/lib.macosx-10.7-x86_64-3.5/pygame/examples\n",
      "  copying examples/cursors.py -> build/lib.macosx-10.7-x86_64-3.5/pygame/examples\n",
      "  copying examples/eventlist.py -> build/lib.macosx-10.7-x86_64-3.5/pygame/examples\n",
      "  copying examples/fastevents.py -> build/lib.macosx-10.7-x86_64-3.5/pygame/examples\n",
      "  copying examples/fonty.py -> build/lib.macosx-10.7-x86_64-3.5/pygame/examples\n",
      "  copying examples/freetype_misc.py -> build/lib.macosx-10.7-x86_64-3.5/pygame/examples\n",
      "  copying examples/glcube.py -> build/lib.macosx-10.7-x86_64-3.5/pygame/examples\n",
      "  copying examples/headless_no_windows_needed.py -> build/lib.macosx-10.7-x86_64-3.5/pygame/examples\n",
      "  copying examples/liquid.py -> build/lib.macosx-10.7-x86_64-3.5/pygame/examples\n",
      "  copying examples/mask.py -> build/lib.macosx-10.7-x86_64-3.5/pygame/examples\n",
      "  copying examples/midi.py -> build/lib.macosx-10.7-x86_64-3.5/pygame/examples\n",
      "  copying examples/moveit.py -> build/lib.macosx-10.7-x86_64-3.5/pygame/examples\n",
      "  copying examples/oldalien.py -> build/lib.macosx-10.7-x86_64-3.5/pygame/examples\n",
      "  copying examples/overlay.py -> build/lib.macosx-10.7-x86_64-3.5/pygame/examples\n",
      "  copying examples/pixelarray.py -> build/lib.macosx-10.7-x86_64-3.5/pygame/examples\n",
      "  copying examples/playmus.py -> build/lib.macosx-10.7-x86_64-3.5/pygame/examples\n",
      "  copying examples/prevent_display_stretching.py -> build/lib.macosx-10.7-x86_64-3.5/pygame/examples\n",
      "  copying examples/scaletest.py -> build/lib.macosx-10.7-x86_64-3.5/pygame/examples\n",
      "  copying examples/scrap_clipboard.py -> build/lib.macosx-10.7-x86_64-3.5/pygame/examples\n",
      "  copying examples/scroll.py -> build/lib.macosx-10.7-x86_64-3.5/pygame/examples\n",
      "  copying examples/sound.py -> build/lib.macosx-10.7-x86_64-3.5/pygame/examples\n",
      "  copying examples/sound_array_demos.py -> build/lib.macosx-10.7-x86_64-3.5/pygame/examples\n",
      "  copying examples/stars.py -> build/lib.macosx-10.7-x86_64-3.5/pygame/examples\n",
      "  copying examples/testsprite.py -> build/lib.macosx-10.7-x86_64-3.5/pygame/examples\n",
      "  copying examples/vgrade.py -> build/lib.macosx-10.7-x86_64-3.5/pygame/examples\n",
      "  running build_ext\n",
      "  building 'pygame.scrap' extension\n",
      "  creating build/temp.macosx-10.7-x86_64-3.5\n",
      "  creating build/temp.macosx-10.7-x86_64-3.5/src\n",
      "  gcc -Wno-unused-result -Wsign-compare -Wunreachable-code -DNDEBUG -g -fwrapv -O3 -Wall -Wstrict-prototypes -I/Applications/anaconda/include -arch x86_64 -DENABLE_NEWBUF=1 -I/NEED_INC_PATH_FIX -I/Applications/anaconda/include/python3.5m -c src/scrap.c -o build/temp.macosx-10.7-x86_64-3.5/src/scrap.o\n",
      "  src/scrap.c:27:10: fatal error: 'SDL.h' file not found\n",
      "  #include \"SDL.h\"\n",
      "           ^\n",
      "  1 error generated.\n",
      "  error: command 'gcc' failed with exit status 1\n",
      "  \n",
      "  ----------------------------------------\n",
      "\u001b[31m  Failed building wheel for pygame\u001b[0m\n",
      "\u001b[?25h  Running setup.py clean for pygame\n",
      "Failed to build pygame\n",
      "Installing collected packages: pygame\n",
      "  Running setup.py install for pygame ... \u001b[?25l-\b \b\\\b \b|\b \berror\n",
      "    Complete output from command /Applications/anaconda/bin/python -u -c \"import setuptools, tokenize;__file__='/private/var/folders/4t/klzj4m612pz0k182jn8xm2b80000gn/T/pip-build-2226hb51/pygame/setup.py';f=getattr(tokenize, 'open', open)(__file__);code=f.read().replace('\\r\\n', '\\n');f.close();exec(compile(code, __file__, 'exec'))\" install --record /var/folders/4t/klzj4m612pz0k182jn8xm2b80000gn/T/pip-u6o5gevq-record/install-record.txt --single-version-externally-managed --compile:\n",
      "    running install\n",
      "    running build\n",
      "    running build_py\n",
      "    creating build\n",
      "    creating build/lib.macosx-10.7-x86_64-3.5\n",
      "    creating build/lib.macosx-10.7-x86_64-3.5/pygame\n",
      "    copying lib/__init__.py -> build/lib.macosx-10.7-x86_64-3.5/pygame\n",
      "    copying lib/_camera_opencv_highgui.py -> build/lib.macosx-10.7-x86_64-3.5/pygame\n",
      "    copying lib/_camera_vidcapture.py -> build/lib.macosx-10.7-x86_64-3.5/pygame\n",
      "    copying lib/_dummybackend.py -> build/lib.macosx-10.7-x86_64-3.5/pygame\n",
      "    copying lib/_numpysndarray.py -> build/lib.macosx-10.7-x86_64-3.5/pygame\n",
      "    copying lib/_numpysurfarray.py -> build/lib.macosx-10.7-x86_64-3.5/pygame\n",
      "    copying lib/camera.py -> build/lib.macosx-10.7-x86_64-3.5/pygame\n",
      "    copying lib/colordict.py -> build/lib.macosx-10.7-x86_64-3.5/pygame\n",
      "    copying lib/compat.py -> build/lib.macosx-10.7-x86_64-3.5/pygame\n",
      "    copying lib/cursors.py -> build/lib.macosx-10.7-x86_64-3.5/pygame\n",
      "    copying lib/font.py -> build/lib.macosx-10.7-x86_64-3.5/pygame\n",
      "    copying lib/freetype.py -> build/lib.macosx-10.7-x86_64-3.5/pygame\n",
      "    copying lib/ftfont.py -> build/lib.macosx-10.7-x86_64-3.5/pygame\n",
      "    copying lib/locals.py -> build/lib.macosx-10.7-x86_64-3.5/pygame\n",
      "    copying lib/macosx.py -> build/lib.macosx-10.7-x86_64-3.5/pygame\n",
      "    copying lib/midi.py -> build/lib.macosx-10.7-x86_64-3.5/pygame\n",
      "    copying lib/pkgdata.py -> build/lib.macosx-10.7-x86_64-3.5/pygame\n",
      "    copying lib/sndarray.py -> build/lib.macosx-10.7-x86_64-3.5/pygame\n",
      "    copying lib/sprite.py -> build/lib.macosx-10.7-x86_64-3.5/pygame\n",
      "    copying lib/surfarray.py -> build/lib.macosx-10.7-x86_64-3.5/pygame\n",
      "    copying lib/sysfont.py -> build/lib.macosx-10.7-x86_64-3.5/pygame\n",
      "    copying lib/version.py -> build/lib.macosx-10.7-x86_64-3.5/pygame\n",
      "    creating build/lib.macosx-10.7-x86_64-3.5/pygame/gp2x\n",
      "    copying lib/gp2x/__init__.py -> build/lib.macosx-10.7-x86_64-3.5/pygame/gp2x\n",
      "    copying lib/gp2x/constants.py -> build/lib.macosx-10.7-x86_64-3.5/pygame/gp2x\n",
      "    copying lib/gp2x/locals.py -> build/lib.macosx-10.7-x86_64-3.5/pygame/gp2x\n",
      "    creating build/lib.macosx-10.7-x86_64-3.5/pygame/threads\n",
      "    copying lib/threads/__init__.py -> build/lib.macosx-10.7-x86_64-3.5/pygame/threads\n",
      "    copying lib/threads/Py25Queue.py -> build/lib.macosx-10.7-x86_64-3.5/pygame/threads\n",
      "    creating build/lib.macosx-10.7-x86_64-3.5/pygame/tests\n",
      "    copying test/__init__.py -> build/lib.macosx-10.7-x86_64-3.5/pygame/tests\n",
      "    copying test/__main__.py -> build/lib.macosx-10.7-x86_64-3.5/pygame/tests\n",
      "    copying test/base_test.py -> build/lib.macosx-10.7-x86_64-3.5/pygame/tests\n",
      "    copying test/blit_test.py -> build/lib.macosx-10.7-x86_64-3.5/pygame/tests\n",
      "    copying test/bufferproxy_test.py -> build/lib.macosx-10.7-x86_64-3.5/pygame/tests\n",
      "    copying test/camera_test.py -> build/lib.macosx-10.7-x86_64-3.5/pygame/tests\n",
      "    copying test/cdrom_tags.py -> build/lib.macosx-10.7-x86_64-3.5/pygame/tests\n",
      "    copying test/cdrom_test.py -> build/lib.macosx-10.7-x86_64-3.5/pygame/tests\n",
      "    copying test/color_test.py -> build/lib.macosx-10.7-x86_64-3.5/pygame/tests\n",
      "    copying test/compat_test.py -> build/lib.macosx-10.7-x86_64-3.5/pygame/tests\n",
      "    copying test/cursors_test.py -> build/lib.macosx-10.7-x86_64-3.5/pygame/tests\n",
      "    copying test/display_test.py -> build/lib.macosx-10.7-x86_64-3.5/pygame/tests\n",
      "    copying test/draw_test.py -> build/lib.macosx-10.7-x86_64-3.5/pygame/tests\n",
      "    copying test/event_test.py -> build/lib.macosx-10.7-x86_64-3.5/pygame/tests\n",
      "    copying test/fastevent_test.py -> build/lib.macosx-10.7-x86_64-3.5/pygame/tests\n",
      "    copying test/font_tags.py -> build/lib.macosx-10.7-x86_64-3.5/pygame/tests\n",
      "    copying test/font_test.py -> build/lib.macosx-10.7-x86_64-3.5/pygame/tests\n",
      "    copying test/freetype_tags.py -> build/lib.macosx-10.7-x86_64-3.5/pygame/tests\n",
      "    copying test/freetype_test.py -> build/lib.macosx-10.7-x86_64-3.5/pygame/tests\n",
      "    copying test/ftfont_tags.py -> build/lib.macosx-10.7-x86_64-3.5/pygame/tests\n",
      "    copying test/ftfont_test.py -> build/lib.macosx-10.7-x86_64-3.5/pygame/tests\n",
      "    copying test/gfxdraw_test.py -> build/lib.macosx-10.7-x86_64-3.5/pygame/tests\n",
      "    copying test/image__save_gl_surface_test.py -> build/lib.macosx-10.7-x86_64-3.5/pygame/tests\n",
      "    copying test/image_tags.py -> build/lib.macosx-10.7-x86_64-3.5/pygame/tests\n",
      "    copying test/image_test.py -> build/lib.macosx-10.7-x86_64-3.5/pygame/tests\n",
      "    copying test/imageext_tags.py -> build/lib.macosx-10.7-x86_64-3.5/pygame/tests\n",
      "    copying test/imageext_test.py -> build/lib.macosx-10.7-x86_64-3.5/pygame/tests\n",
      "    copying test/joystick_test.py -> build/lib.macosx-10.7-x86_64-3.5/pygame/tests\n",
      "    copying test/key_test.py -> build/lib.macosx-10.7-x86_64-3.5/pygame/tests\n",
      "    copying test/mask_test.py -> build/lib.macosx-10.7-x86_64-3.5/pygame/tests\n",
      "    copying test/math_test.py -> build/lib.macosx-10.7-x86_64-3.5/pygame/tests\n",
      "    copying test/midi_tags.py -> build/lib.macosx-10.7-x86_64-3.5/pygame/tests\n",
      "    copying test/midi_test.py -> build/lib.macosx-10.7-x86_64-3.5/pygame/tests\n",
      "    copying test/mixer_music_tags.py -> build/lib.macosx-10.7-x86_64-3.5/pygame/tests\n",
      "    copying test/mixer_music_test.py -> build/lib.macosx-10.7-x86_64-3.5/pygame/tests\n",
      "    copying test/mixer_tags.py -> build/lib.macosx-10.7-x86_64-3.5/pygame/tests\n",
      "    copying test/mixer_test.py -> build/lib.macosx-10.7-x86_64-3.5/pygame/tests\n",
      "    copying test/mouse_test.py -> build/lib.macosx-10.7-x86_64-3.5/pygame/tests\n",
      "    copying test/overlay_test.py -> build/lib.macosx-10.7-x86_64-3.5/pygame/tests\n",
      "    copying test/pixelarray_test.py -> build/lib.macosx-10.7-x86_64-3.5/pygame/tests\n",
      "    copying test/pixelcopy_test.py -> build/lib.macosx-10.7-x86_64-3.5/pygame/tests\n",
      "    copying test/rect_test.py -> build/lib.macosx-10.7-x86_64-3.5/pygame/tests\n",
      "    copying test/rwobject_test.py -> build/lib.macosx-10.7-x86_64-3.5/pygame/tests\n",
      "    copying test/scrap_tags.py -> build/lib.macosx-10.7-x86_64-3.5/pygame/tests\n",
      "    copying test/scrap_test.py -> build/lib.macosx-10.7-x86_64-3.5/pygame/tests\n",
      "    copying test/sndarray_tags.py -> build/lib.macosx-10.7-x86_64-3.5/pygame/tests\n",
      "    copying test/sndarray_test.py -> build/lib.macosx-10.7-x86_64-3.5/pygame/tests\n",
      "    copying test/sprite_test.py -> build/lib.macosx-10.7-x86_64-3.5/pygame/tests\n",
      "    copying test/surface_test.py -> build/lib.macosx-10.7-x86_64-3.5/pygame/tests\n",
      "    copying test/surfarray_tags.py -> build/lib.macosx-10.7-x86_64-3.5/pygame/tests\n",
      "    copying test/surfarray_test.py -> build/lib.macosx-10.7-x86_64-3.5/pygame/tests\n",
      "    copying test/surflock_test.py -> build/lib.macosx-10.7-x86_64-3.5/pygame/tests\n",
      "    copying test/sysfont_test.py -> build/lib.macosx-10.7-x86_64-3.5/pygame/tests\n",
      "    copying test/test_test_.py -> build/lib.macosx-10.7-x86_64-3.5/pygame/tests\n",
      "    copying test/threads_test.py -> build/lib.macosx-10.7-x86_64-3.5/pygame/tests\n",
      "    copying test/time_test.py -> build/lib.macosx-10.7-x86_64-3.5/pygame/tests\n",
      "    copying test/transform_test.py -> build/lib.macosx-10.7-x86_64-3.5/pygame/tests\n",
      "    creating build/lib.macosx-10.7-x86_64-3.5/pygame/tests/test_utils\n",
      "    copying test/test_utils/__init__.py -> build/lib.macosx-10.7-x86_64-3.5/pygame/tests/test_utils\n",
      "    copying test/test_utils/arrinter.py -> build/lib.macosx-10.7-x86_64-3.5/pygame/tests/test_utils\n",
      "    copying test/test_utils/async_sub.py -> build/lib.macosx-10.7-x86_64-3.5/pygame/tests/test_utils\n",
      "    copying test/test_utils/buftools.py -> build/lib.macosx-10.7-x86_64-3.5/pygame/tests/test_utils\n",
      "    copying test/test_utils/endian.py -> build/lib.macosx-10.7-x86_64-3.5/pygame/tests/test_utils\n",
      "    copying test/test_utils/png.py -> build/lib.macosx-10.7-x86_64-3.5/pygame/tests/test_utils\n",
      "    copying test/test_utils/run_tests.py -> build/lib.macosx-10.7-x86_64-3.5/pygame/tests/test_utils\n",
      "    copying test/test_utils/test_machinery.py -> build/lib.macosx-10.7-x86_64-3.5/pygame/tests/test_utils\n",
      "    copying test/test_utils/test_runner.py -> build/lib.macosx-10.7-x86_64-3.5/pygame/tests/test_utils\n",
      "    creating build/lib.macosx-10.7-x86_64-3.5/pygame/tests/run_tests__tests\n",
      "    copying test/run_tests__tests/__init__.py -> build/lib.macosx-10.7-x86_64-3.5/pygame/tests/run_tests__tests\n",
      "    copying test/run_tests__tests/run_tests__test.py -> build/lib.macosx-10.7-x86_64-3.5/pygame/tests/run_tests__tests\n",
      "    creating build/lib.macosx-10.7-x86_64-3.5/pygame/tests/run_tests__tests/all_ok\n",
      "    copying test/run_tests__tests/all_ok/__init__.py -> build/lib.macosx-10.7-x86_64-3.5/pygame/tests/run_tests__tests/all_ok\n",
      "    copying test/run_tests__tests/all_ok/fake_2_test.py -> build/lib.macosx-10.7-x86_64-3.5/pygame/tests/run_tests__tests/all_ok\n",
      "    copying test/run_tests__tests/all_ok/fake_3_test.py -> build/lib.macosx-10.7-x86_64-3.5/pygame/tests/run_tests__tests/all_ok\n",
      "    copying test/run_tests__tests/all_ok/fake_4_test.py -> build/lib.macosx-10.7-x86_64-3.5/pygame/tests/run_tests__tests/all_ok\n",
      "    copying test/run_tests__tests/all_ok/fake_5_test.py -> build/lib.macosx-10.7-x86_64-3.5/pygame/tests/run_tests__tests/all_ok\n",
      "    copying test/run_tests__tests/all_ok/fake_6_test.py -> build/lib.macosx-10.7-x86_64-3.5/pygame/tests/run_tests__tests/all_ok\n",
      "    copying test/run_tests__tests/all_ok/no_assertions__ret_code_of_1__test.py -> build/lib.macosx-10.7-x86_64-3.5/pygame/tests/run_tests__tests/all_ok\n",
      "    copying test/run_tests__tests/all_ok/zero_tests_test.py -> build/lib.macosx-10.7-x86_64-3.5/pygame/tests/run_tests__tests/all_ok\n",
      "    creating build/lib.macosx-10.7-x86_64-3.5/pygame/tests/run_tests__tests/failures1\n",
      "    copying test/run_tests__tests/failures1/__init__.py -> build/lib.macosx-10.7-x86_64-3.5/pygame/tests/run_tests__tests/failures1\n",
      "    copying test/run_tests__tests/failures1/fake_2_test.py -> build/lib.macosx-10.7-x86_64-3.5/pygame/tests/run_tests__tests/failures1\n",
      "    copying test/run_tests__tests/failures1/fake_3_test.py -> build/lib.macosx-10.7-x86_64-3.5/pygame/tests/run_tests__tests/failures1\n",
      "    copying test/run_tests__tests/failures1/fake_4_test.py -> build/lib.macosx-10.7-x86_64-3.5/pygame/tests/run_tests__tests/failures1\n",
      "    creating build/lib.macosx-10.7-x86_64-3.5/pygame/tests/run_tests__tests/incomplete\n",
      "    copying test/run_tests__tests/incomplete/__init__.py -> build/lib.macosx-10.7-x86_64-3.5/pygame/tests/run_tests__tests/incomplete\n",
      "    copying test/run_tests__tests/incomplete/fake_2_test.py -> build/lib.macosx-10.7-x86_64-3.5/pygame/tests/run_tests__tests/incomplete\n",
      "    copying test/run_tests__tests/incomplete/fake_3_test.py -> build/lib.macosx-10.7-x86_64-3.5/pygame/tests/run_tests__tests/incomplete\n",
      "    creating build/lib.macosx-10.7-x86_64-3.5/pygame/tests/run_tests__tests/infinite_loop\n",
      "    copying test/run_tests__tests/infinite_loop/__init__.py -> build/lib.macosx-10.7-x86_64-3.5/pygame/tests/run_tests__tests/infinite_loop\n",
      "    copying test/run_tests__tests/infinite_loop/fake_1_test.py -> build/lib.macosx-10.7-x86_64-3.5/pygame/tests/run_tests__tests/infinite_loop\n",
      "    copying test/run_tests__tests/infinite_loop/fake_2_test.py -> build/lib.macosx-10.7-x86_64-3.5/pygame/tests/run_tests__tests/infinite_loop\n",
      "    creating build/lib.macosx-10.7-x86_64-3.5/pygame/tests/run_tests__tests/print_stderr\n",
      "    copying test/run_tests__tests/print_stderr/__init__.py -> build/lib.macosx-10.7-x86_64-3.5/pygame/tests/run_tests__tests/print_stderr\n",
      "    copying test/run_tests__tests/print_stderr/fake_2_test.py -> build/lib.macosx-10.7-x86_64-3.5/pygame/tests/run_tests__tests/print_stderr\n",
      "    copying test/run_tests__tests/print_stderr/fake_3_test.py -> build/lib.macosx-10.7-x86_64-3.5/pygame/tests/run_tests__tests/print_stderr\n",
      "    copying test/run_tests__tests/print_stderr/fake_4_test.py -> build/lib.macosx-10.7-x86_64-3.5/pygame/tests/run_tests__tests/print_stderr\n",
      "    creating build/lib.macosx-10.7-x86_64-3.5/pygame/tests/run_tests__tests/print_stdout\n",
      "    copying test/run_tests__tests/print_stdout/__init__.py -> build/lib.macosx-10.7-x86_64-3.5/pygame/tests/run_tests__tests/print_stdout\n",
      "    copying test/run_tests__tests/print_stdout/fake_2_test.py -> build/lib.macosx-10.7-x86_64-3.5/pygame/tests/run_tests__tests/print_stdout\n",
      "    copying test/run_tests__tests/print_stdout/fake_3_test.py -> build/lib.macosx-10.7-x86_64-3.5/pygame/tests/run_tests__tests/print_stdout\n",
      "    copying test/run_tests__tests/print_stdout/fake_4_test.py -> build/lib.macosx-10.7-x86_64-3.5/pygame/tests/run_tests__tests/print_stdout\n",
      "    creating build/lib.macosx-10.7-x86_64-3.5/pygame/tests/run_tests__tests/incomplete_todo\n",
      "    copying test/run_tests__tests/incomplete_todo/__init__.py -> build/lib.macosx-10.7-x86_64-3.5/pygame/tests/run_tests__tests/incomplete_todo\n",
      "    copying test/run_tests__tests/incomplete_todo/fake_2_test.py -> build/lib.macosx-10.7-x86_64-3.5/pygame/tests/run_tests__tests/incomplete_todo\n",
      "    copying test/run_tests__tests/incomplete_todo/fake_3_test.py -> build/lib.macosx-10.7-x86_64-3.5/pygame/tests/run_tests__tests/incomplete_todo\n",
      "    creating build/lib.macosx-10.7-x86_64-3.5/pygame/tests/run_tests__tests/exclude\n",
      "    copying test/run_tests__tests/exclude/__init__.py -> build/lib.macosx-10.7-x86_64-3.5/pygame/tests/run_tests__tests/exclude\n",
      "    copying test/run_tests__tests/exclude/fake_2_test.py -> build/lib.macosx-10.7-x86_64-3.5/pygame/tests/run_tests__tests/exclude\n",
      "    copying test/run_tests__tests/exclude/invisible_tag_test.py -> build/lib.macosx-10.7-x86_64-3.5/pygame/tests/run_tests__tests/exclude\n",
      "    copying test/run_tests__tests/exclude/magic_tag_test.py -> build/lib.macosx-10.7-x86_64-3.5/pygame/tests/run_tests__tests/exclude\n",
      "    creating build/lib.macosx-10.7-x86_64-3.5/pygame/tests/run_tests__tests/timeout\n",
      "    copying test/run_tests__tests/timeout/__init__.py -> build/lib.macosx-10.7-x86_64-3.5/pygame/tests/run_tests__tests/timeout\n",
      "    copying test/run_tests__tests/timeout/fake_2_test.py -> build/lib.macosx-10.7-x86_64-3.5/pygame/tests/run_tests__tests/timeout\n",
      "    copying test/run_tests__tests/timeout/sleep_test.py -> build/lib.macosx-10.7-x86_64-3.5/pygame/tests/run_tests__tests/timeout\n",
      "    creating build/lib.macosx-10.7-x86_64-3.5/pygame/tests/run_tests__tests/everything\n",
      "    copying test/run_tests__tests/everything/__init__.py -> build/lib.macosx-10.7-x86_64-3.5/pygame/tests/run_tests__tests/everything\n",
      "    copying test/run_tests__tests/everything/fake_2_test.py -> build/lib.macosx-10.7-x86_64-3.5/pygame/tests/run_tests__tests/everything\n",
      "    copying test/run_tests__tests/everything/incomplete_todo_test.py -> build/lib.macosx-10.7-x86_64-3.5/pygame/tests/run_tests__tests/everything\n",
      "    copying test/run_tests__tests/everything/magic_tag_test.py -> build/lib.macosx-10.7-x86_64-3.5/pygame/tests/run_tests__tests/everything\n",
      "    copying test/run_tests__tests/everything/sleep_test.py -> build/lib.macosx-10.7-x86_64-3.5/pygame/tests/run_tests__tests/everything\n",
      "    creating build/lib.macosx-10.7-x86_64-3.5/pygame/docs\n",
      "    copying docs/__init__.py -> build/lib.macosx-10.7-x86_64-3.5/pygame/docs\n",
      "    copying docs/__main__.py -> build/lib.macosx-10.7-x86_64-3.5/pygame/docs\n",
      "    creating build/lib.macosx-10.7-x86_64-3.5/pygame/examples\n",
      "    copying examples/__init__.py -> build/lib.macosx-10.7-x86_64-3.5/pygame/examples\n",
      "    copying examples/aacircle.py -> build/lib.macosx-10.7-x86_64-3.5/pygame/examples\n",
      "    copying examples/aliens.py -> build/lib.macosx-10.7-x86_64-3.5/pygame/examples\n",
      "    copying examples/arraydemo.py -> build/lib.macosx-10.7-x86_64-3.5/pygame/examples\n",
      "    copying examples/blend_fill.py -> build/lib.macosx-10.7-x86_64-3.5/pygame/examples\n",
      "    copying examples/blit_blends.py -> build/lib.macosx-10.7-x86_64-3.5/pygame/examples\n",
      "    copying examples/camera.py -> build/lib.macosx-10.7-x86_64-3.5/pygame/examples\n",
      "    copying examples/chimp.py -> build/lib.macosx-10.7-x86_64-3.5/pygame/examples\n",
      "    copying examples/cursors.py -> build/lib.macosx-10.7-x86_64-3.5/pygame/examples\n",
      "    copying examples/eventlist.py -> build/lib.macosx-10.7-x86_64-3.5/pygame/examples\n",
      "    copying examples/fastevents.py -> build/lib.macosx-10.7-x86_64-3.5/pygame/examples\n",
      "    copying examples/fonty.py -> build/lib.macosx-10.7-x86_64-3.5/pygame/examples\n",
      "    copying examples/freetype_misc.py -> build/lib.macosx-10.7-x86_64-3.5/pygame/examples\n",
      "    copying examples/glcube.py -> build/lib.macosx-10.7-x86_64-3.5/pygame/examples\n",
      "    copying examples/headless_no_windows_needed.py -> build/lib.macosx-10.7-x86_64-3.5/pygame/examples\n",
      "    copying examples/liquid.py -> build/lib.macosx-10.7-x86_64-3.5/pygame/examples\n",
      "    copying examples/mask.py -> build/lib.macosx-10.7-x86_64-3.5/pygame/examples\n",
      "    copying examples/midi.py -> build/lib.macosx-10.7-x86_64-3.5/pygame/examples\n",
      "    copying examples/moveit.py -> build/lib.macosx-10.7-x86_64-3.5/pygame/examples\n",
      "    copying examples/oldalien.py -> build/lib.macosx-10.7-x86_64-3.5/pygame/examples\n",
      "    copying examples/overlay.py -> build/lib.macosx-10.7-x86_64-3.5/pygame/examples\n",
      "    copying examples/pixelarray.py -> build/lib.macosx-10.7-x86_64-3.5/pygame/examples\n",
      "    copying examples/playmus.py -> build/lib.macosx-10.7-x86_64-3.5/pygame/examples\n",
      "    copying examples/prevent_display_stretching.py -> build/lib.macosx-10.7-x86_64-3.5/pygame/examples\n",
      "    copying examples/scaletest.py -> build/lib.macosx-10.7-x86_64-3.5/pygame/examples\n",
      "    copying examples/scrap_clipboard.py -> build/lib.macosx-10.7-x86_64-3.5/pygame/examples\n",
      "    copying examples/scroll.py -> build/lib.macosx-10.7-x86_64-3.5/pygame/examples\n",
      "    copying examples/sound.py -> build/lib.macosx-10.7-x86_64-3.5/pygame/examples\n",
      "    copying examples/sound_array_demos.py -> build/lib.macosx-10.7-x86_64-3.5/pygame/examples\n",
      "    copying examples/stars.py -> build/lib.macosx-10.7-x86_64-3.5/pygame/examples\n",
      "    copying examples/testsprite.py -> build/lib.macosx-10.7-x86_64-3.5/pygame/examples\n",
      "    copying examples/vgrade.py -> build/lib.macosx-10.7-x86_64-3.5/pygame/examples\n",
      "    running build_ext\n",
      "    building 'pygame.scrap' extension\n",
      "    creating build/temp.macosx-10.7-x86_64-3.5\n",
      "    creating build/temp.macosx-10.7-x86_64-3.5/src\n",
      "    gcc -Wno-unused-result -Wsign-compare -Wunreachable-code -DNDEBUG -g -fwrapv -O3 -Wall -Wstrict-prototypes -I/Applications/anaconda/include -arch x86_64 -DENABLE_NEWBUF=1 -I/NEED_INC_PATH_FIX -I/Applications/anaconda/include/python3.5m -c src/scrap.c -o build/temp.macosx-10.7-x86_64-3.5/src/scrap.o\n",
      "    src/scrap.c:27:10: fatal error: 'SDL.h' file not found\n",
      "    #include \"SDL.h\"\n",
      "             ^\n",
      "    1 error generated.\n",
      "    error: command 'gcc' failed with exit status 1\n",
      "    \n",
      "    ----------------------------------------\n",
      "\u001b[31mCommand \"/Applications/anaconda/bin/python -u -c \"import setuptools, tokenize;__file__='/private/var/folders/4t/klzj4m612pz0k182jn8xm2b80000gn/T/pip-build-2226hb51/pygame/setup.py';f=getattr(tokenize, 'open', open)(__file__);code=f.read().replace('\\r\\n', '\\n');f.close();exec(compile(code, __file__, 'exec'))\" install --record /var/folders/4t/klzj4m612pz0k182jn8xm2b80000gn/T/pip-u6o5gevq-record/install-record.txt --single-version-externally-managed --compile\" failed with error code 1 in /private/var/folders/4t/klzj4m612pz0k182jn8xm2b80000gn/T/pip-build-2226hb51/pygame/\u001b[0m\n",
      "\u001b[?25h"
     ]
    }
   ],
   "source": [
    "!pip install pygame"
   ]
  },
  {
   "cell_type": "code",
   "execution_count": 5,
   "metadata": {},
   "outputs": [],
   "source": [
    "import pygame"
   ]
  },
  {
   "cell_type": "code",
   "execution_count": 146,
   "metadata": {},
   "outputs": [
    {
     "data": {
      "text/plain": [
       "'3.5.1 |Anaconda 2.4.1 (x86_64)| (default, Dec  7 2015, 11:24:55) \\n[GCC 4.2.1 (Apple Inc. build 5577)]'"
      ]
     },
     "execution_count": 146,
     "metadata": {},
     "output_type": "execute_result"
    }
   ],
   "source": [
    "import sys;sys.version"
   ]
  },
  {
   "cell_type": "code",
   "execution_count": 2,
   "metadata": {},
   "outputs": [
    {
     "ename": "NameError",
     "evalue": "name 'width' is not defined",
     "output_type": "error",
     "traceback": [
      "\u001b[0;31m---------------------------------------------------------------------------\u001b[0m",
      "\u001b[0;31mNameError\u001b[0m                                 Traceback (most recent call last)",
      "\u001b[0;32m<ipython-input-2-771aa25ebe67>\u001b[0m in \u001b[0;36m<module>\u001b[0;34m()\u001b[0m\n\u001b[0;32m----> 1\u001b[0;31m \u001b[0mscreen\u001b[0m \u001b[0;34m=\u001b[0m \u001b[0mpygame\u001b[0m\u001b[0;34m.\u001b[0m\u001b[0mdisplay\u001b[0m\u001b[0;34m.\u001b[0m\u001b[0mset_mode\u001b[0m\u001b[0;34m(\u001b[0m\u001b[0;34m(\u001b[0m\u001b[0mwidth\u001b[0m\u001b[0;34m,\u001b[0m \u001b[0mheight\u001b[0m\u001b[0;34m)\u001b[0m\u001b[0;34m)\u001b[0m\u001b[0;34m\u001b[0m\u001b[0m\n\u001b[0m",
      "\u001b[0;31mNameError\u001b[0m: name 'width' is not defined"
     ]
    }
   ],
   "source": [
    "screen = pygame.display.set_mode((20, 30))"
   ]
  },
  {
   "cell_type": "code",
   "execution_count": 2,
   "metadata": {
    "scrolled": true
   },
   "outputs": [
    {
     "ename": "ImportError",
     "evalue": "No module named 'inputbox'",
     "output_type": "error",
     "traceback": [
      "\u001b[0;31m---------------------------------------------------------------------------\u001b[0m",
      "\u001b[0;31mImportError\u001b[0m                               Traceback (most recent call last)",
      "\u001b[0;32m<ipython-input-2-fb2597bbc1de>\u001b[0m in \u001b[0;36m<module>\u001b[0;34m()\u001b[0m\n\u001b[0;32m----> 1\u001b[0;31m \u001b[0;32mimport\u001b[0m \u001b[0minputbox\u001b[0m\u001b[0;34m\u001b[0m\u001b[0m\n\u001b[0m",
      "\u001b[0;31mImportError\u001b[0m: No module named 'inputbox'"
     ]
    }
   ],
   "source": [
    "import inputbox"
   ]
  },
  {
   "cell_type": "code",
   "execution_count": 3,
   "metadata": {},
   "outputs": [],
   "source": [
    "import tkinter as tk"
   ]
  },
  {
   "cell_type": "code",
   "execution_count": 17,
   "metadata": {},
   "outputs": [],
   "source": [
    "import tkinter\n",
    "\n",
    "def draw(canvas, width, height):\n",
    "    pass # replace with your drawing code!\n",
    "\n",
    "def runDrawing(width=300, height=300):\n",
    "    root = Tk()\n",
    "    canvas = Canvas(root, width=width, height=height)\n",
    "    canvas.pack()\n",
    "    draw(canvas, width, height)\n",
    "    root.mainloop()\n",
    "    print(\"bye!\")\n",
    "diary = \"Type here:\"\n",
    "root = Tk()\n",
    "text = Text(root)\n",
    "#text.insert(INSERT, diary)\n",
    "text.pack()\n",
    "\n",
    "root.mainloop()\n",
    "#runDrawing(400, 200)"
   ]
  },
  {
   "cell_type": "code",
   "execution_count": 29,
   "metadata": {},
   "outputs": [
    {
     "name": "stdout",
     "output_type": "stream",
     "text": [
      "😋!!!!!!\n",
      "hi!!!!!!\n",
      "hi alisa!!!!!!\n"
     ]
    }
   ],
   "source": [
    "def printtext(event):\n",
    "    global e\n",
    "    string = e.get() \n",
    "    print(string + \"!!!!!!\")\n",
    "    b = Button(root,text='okay')\n",
    "    b.pack(side='right')\n",
    "\n",
    "from tkinter import *\n",
    "root = Tk()\n",
    "\n",
    "root.title('Chatbot')\n",
    "#canvas = Canvas(root, width=500, height=300)\n",
    "#canvas.pack()\n",
    "root.geometry(\"300x200\")\n",
    "e = Entry(root)\n",
    "e.place(anchor = \"sw\")\n",
    "e.pack()\n",
    "e.focus_set()\n",
    "root.bind('<Return>',printtext)   #Binds the \"left\" key to the frame and exexutes yourFunction if \"left\" key was pressed\n",
    "#b = Button(root,text='okay',command=printtext)\n",
    "#b.pack(side='right')\n",
    "root.mainloop()"
   ]
  },
  {
   "cell_type": "code",
   "execution_count": 28,
   "metadata": {},
   "outputs": [
    {
     "ename": "ImportError",
     "evalue": "No module named 'PIL'",
     "output_type": "error",
     "traceback": [
      "\u001b[0;31m---------------------------------------------------------------------------\u001b[0m",
      "\u001b[0;31mImportError\u001b[0m                               Traceback (most recent call last)",
      "\u001b[0;32m<ipython-input-28-70d569469e06>\u001b[0m in \u001b[0;36m<module>\u001b[0;34m()\u001b[0m\n\u001b[0;32m----> 1\u001b[0;31m \u001b[0;32mimport\u001b[0m \u001b[0mPIL\u001b[0m\u001b[0;34m\u001b[0m\u001b[0m\n\u001b[0m",
      "\u001b[0;31mImportError\u001b[0m: No module named 'PIL'"
     ]
    }
   ],
   "source": [
    "import PIL"
   ]
  },
  {
   "cell_type": "code",
   "execution_count": 26,
   "metadata": {},
   "outputs": [
    {
     "name": "stdout",
     "output_type": "stream",
     "text": [
      "/bin/sh: pip: command not found\r\n"
     ]
    }
   ],
   "source": [
    "!pip install PIL"
   ]
  },
  {
   "cell_type": "code",
   "execution_count": null,
   "metadata": {},
   "outputs": [],
   "source": []
  }
 ],
 "metadata": {
  "kernelspec": {
   "display_name": "Python 3",
   "language": "python",
   "name": "python3"
  },
  "language_info": {
   "codemirror_mode": {
    "name": "ipython",
    "version": 3
   },
   "file_extension": ".py",
   "mimetype": "text/x-python",
   "name": "python",
   "nbconvert_exporter": "python",
   "pygments_lexer": "ipython3",
   "version": "3.5.2"
  }
 },
 "nbformat": 4,
 "nbformat_minor": 1
}
