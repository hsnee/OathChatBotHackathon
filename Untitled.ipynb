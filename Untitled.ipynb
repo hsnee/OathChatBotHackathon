{
 "cells": [
  {
   "cell_type": "code",
   "execution_count": 8,
   "metadata": {
    "collapsed": true
   },
   "outputs": [],
   "source": [
    "from sklearn.neural_network import MLPClassifier"
   ]
  },
  {
   "cell_type": "code",
   "execution_count": 9,
   "metadata": {
    "collapsed": true
   },
   "outputs": [],
   "source": [
    "clsf = MLPClassifier(activation='logistic', solver='lbfgs',\n",
    "                    hidden_layer_sizes=2\n",
    "                    )"
   ]
  },
  {
   "cell_type": "code",
   "execution_count": 10,
   "metadata": {},
   "outputs": [],
   "source": [
    "movies = ['iron man', 'captain america', 'ant man', 'deadpool', 'guardians of the galaxy',\n",
    "         'anchorman', 'hot tub time machine', 'kung fu panda', 'home again', 'smurfs', \n",
    "         ]\n",
    "age = [20, 19, 21, 25, 17,\n",
    "       27, 18, 15, 35, 12\n",
    "      ]\n",
    "year = [2010, 2016, 2015, 2016, 2014,\n",
    "        2004, 2010, 2008, 2017, 2011\n",
    "       ]\n",
    "year = [item-2003 for item in year]\n",
    "age  = [item-11 for item in age]\n",
    "marvel = [1,1,1,1,1,\n",
    "          0,0,0,0,0\n",
    "         ]\n",
    "comedy = [0,0,0,0,0,\n",
    "          1,1,0,0,0]\n",
    "cartoon = [0,0,0,0,0,\n",
    "           0,0,1,0,1]\n",
    "romance = [0,0,0,0,0,\n",
    "          0,0,0,1,0]"
   ]
  },
  {
   "cell_type": "code",
   "execution_count": 11,
   "metadata": {},
   "outputs": [
    {
     "data": {
      "text/plain": [
       "MLPClassifier(activation='logistic', alpha=0.0001, batch_size='auto',\n",
       "       beta_1=0.9, beta_2=0.999, early_stopping=False, epsilon=1e-08,\n",
       "       hidden_layer_sizes=2, learning_rate='constant',\n",
       "       learning_rate_init=0.001, max_iter=200, momentum=0.9,\n",
       "       nesterovs_momentum=True, power_t=0.5, random_state=None,\n",
       "       shuffle=True, solver='lbfgs', tol=0.0001, validation_fraction=0.1,\n",
       "       verbose=False, warm_start=False)"
      ]
     },
     "execution_count": 11,
     "metadata": {},
     "output_type": "execute_result"
    }
   ],
   "source": [
    "clsf.fit(zip(age,year,marvel,comedy,cartoon,romance),movies)"
   ]
  },
  {
   "cell_type": "code",
   "execution_count": 20,
   "metadata": {
    "collapsed": true
   },
   "outputs": [],
   "source": [
    "a = [(20,20,0,0\n",
    "      ,0,1)]"
   ]
  },
  {
   "cell_type": "code",
   "execution_count": 22,
   "metadata": {},
   "outputs": [
    {
     "data": {
      "text/plain": [
       "'hot tub time machine'"
      ]
     },
     "execution_count": 22,
     "metadata": {},
     "output_type": "execute_result"
    }
   ],
   "source": [
    "clsf.predict(a)[0]"
   ]
  },
  {
   "cell_type": "code",
   "execution_count": null,
   "metadata": {
    "collapsed": true
   },
   "outputs": [],
   "source": []
  }
 ],
 "metadata": {
  "kernelspec": {
   "display_name": "Python 3",
   "language": "python",
   "name": "python3"
  },
  "language_info": {
   "codemirror_mode": {
    "name": "ipython",
    "version": 2
   },
   "file_extension": ".py",
   "mimetype": "text/x-python",
   "name": "python",
   "nbconvert_exporter": "python",
   "pygments_lexer": "ipython2",
   "version": "2.7.14"
  }
 },
 "nbformat": 4,
 "nbformat_minor": 2
}
